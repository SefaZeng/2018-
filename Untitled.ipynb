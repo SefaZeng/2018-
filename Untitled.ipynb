{
 "cells": [
  {
   "cell_type": "markdown",
   "metadata": {},
   "source": [
    "#   腾讯广告测试\n",
    "##  标题测试"
   ]
  },
  {
   "cell_type": "code",
   "execution_count": 1,
   "metadata": {},
   "outputs": [
    {
     "name": "stdout",
     "output_type": "stream",
     "text": [
      "200000\n",
      "400000\n",
      "600000\n",
      "800000\n",
      "1000000\n",
      "1200000\n",
      "1400000\n",
      "1600000\n",
      "1800000\n",
      "2000000\n",
      "2200000\n",
      "2400000\n",
      "2600000\n",
      "2800000\n",
      "3000000\n",
      "3200000\n",
      "3400000\n",
      "3600000\n",
      "3800000\n",
      "4000000\n",
      "4200000\n",
      "4400000\n",
      "4600000\n",
      "4800000\n",
      "5000000\n",
      "5200000\n",
      "5400000\n",
      "5600000\n",
      "5800000\n",
      "6000000\n",
      "6200000\n",
      "6400000\n",
      "6600000\n",
      "6800000\n",
      "7000000\n",
      "7200000\n",
      "7400000\n",
      "7600000\n",
      "7800000\n",
      "8000000\n",
      "8200000\n",
      "8400000\n",
      "8600000\n",
      "8800000\n",
      "9000000\n",
      "9200000\n",
      "9400000\n",
      "9600000\n",
      "9800000\n",
      "10000000\n",
      "10200000\n",
      "10400000\n",
      "10600000\n",
      "10800000\n",
      "11000000\n",
      "11200000\n",
      "11400000\n"
     ]
    }
   ],
   "source": [
    "from csv import DictWriter\n",
    "\n",
    "fo = open('preliminary_contest_data/userFeature0.csv', 'w')\n",
    "headers = ['uid', 'age', 'gender', 'marriageStatus', 'education', 'consumptionAbility', 'LBS', 'interest1', 'interest2',\n",
    "            'interest3', 'interest4', 'interest5', 'kw1', 'kw2', 'kw3',  'topic1', 'topic2', 'topic3', 'appIdInstall',\n",
    "            'appIdAction', 'ct', 'os', 'carrier', 'house']\n",
    "writer = DictWriter(fo, fieldnames=headers, lineterminator='\\n')\n",
    "writer.writeheader()\n",
    "\n",
    "fi = open('preliminary_contest_data/userFeature.data', 'r')\n",
    "for t, line in enumerate(fi, start=1):\n",
    "    line = line.replace('\\n', '').split('|')\n",
    "    userFeature_dict = {}\n",
    "    for each in line:\n",
    "        each_list = each.split(' ')\n",
    "        userFeature_dict[each_list[0]] = ' '.join(each_list[1:])\n",
    "    writer.writerow(userFeature_dict)\n",
    "    if t % 200000 == 0:\n",
    "        fo = open('preliminary_contest_data/userFeature%s.csv' %t, 'w')\n",
    "        writer = DictWriter(fo, fieldnames=headers, lineterminator='\\n')\n",
    "        writer.writeheader()\n",
    "        print(t)\n",
    "fi.close()\n",
    "fo.close()\n"
   ]
  },
  {
   "cell_type": "code",
   "execution_count": 11,
   "metadata": {},
   "outputs": [
    {
     "name": "stdout",
     "output_type": "stream",
     "text": [
      "        uid  age  gender marriageStatus  education  consumptionAbility    LBS  \\\n",
      "0  26325489    4       2             11          7                   2  950.0   \n",
      "1   1184123    2       1           5 13          2                   1  803.0   \n",
      "2  76072711    1       1          13 10          5                   1  927.0   \n",
      "3  63071413    4       1             11          7                   1  486.0   \n",
      "4  81294159    5       1             11          6                   2  112.0   \n",
      "\n",
      "                                           interest1  \\\n",
      "0  93 70 77 86 109 47 75 69 45 8 29 49 83 6 46 36...   \n",
      "1                                              75 29   \n",
      "2     70 12 28 106 59 49 41 6 42 115 35 116 36 11 96   \n",
      "3  93 70 77 47 76 75 69 29 59 49 122 42 46 23 17 ...   \n",
      "4                                 75 29 49 122 36 11   \n",
      "\n",
      "                     interest2 interest3  ...   kw3                    topic1  \\\n",
      "0                  46 19 13 29       NaN  ...   NaN   9826 105 8525 5488 7281   \n",
      "1                           33       NaN  ...   NaN  4391 9140 5669 1348 4388   \n",
      "2  51 22 79 81 70 6 21 4 41 35       NaN  ...   NaN  1502 5488 9826 2187 8088   \n",
      "3            24 70 19 13 30 10       NaN  ...   NaN  1619 7342 3064 9213 8525   \n",
      "4                          NaN       NaN  ...   NaN    477 9826 5808 644 2747   \n",
      "\n",
      "                     topic2 topic3 appIdInstall appIdAction       ct   os  \\\n",
      "0  9708 5553 6745 7477 7150    NaN          NaN         NaN      3 1    2   \n",
      "1  9401 7724 1380 8890 7153    NaN          NaN         NaN      3 1    1   \n",
      "2  5005 9154 2756 5612 4209    NaN          NaN         NaN      3 1    1   \n",
      "3   810 2438 5659 1844 9262    NaN          NaN         NaN      1 3  1 2   \n",
      "4  5483 2199 5424 1511 7751    NaN          NaN         NaN  3 1 4 2    1   \n",
      "\n",
      "  carrier house  \n",
      "0       1   NaN  \n",
      "1       1   NaN  \n",
      "2       3   NaN  \n",
      "3       3   NaN  \n",
      "4       3   NaN  \n",
      "\n",
      "[5 rows x 24 columns]\n"
     ]
    }
   ],
   "source": [
    "import pandas as pd\n",
    "\n",
    "with open('preliminary_contest_data/userFeature0.csv', 'r') as userfeature:\n",
    "    headers = ['uid', 'age', 'gender', 'marriageStatus', 'education', 'consumptionAbility', 'LBS', 'interest1', 'interest2',\n",
    "               'interest3', 'interest4', 'interest5', 'kw1', 'kw2', 'kw3',  'topic1', 'topic2', 'topic3', 'appIdInstall',\n",
    "               'appIdAction', 'ct', 'os', 'carrier', 'house']\n",
    "    usf = pd.read_csv(userfeature)\n",
    "    print(usf.head())\n",
    "    \n",
    "    userfeature.close()"
   ]
  },
  {
   "cell_type": "code",
   "execution_count": null,
   "metadata": {
    "collapsed": true
   },
   "outputs": [],
   "source": [
    "import lightgbm as lgb\n",
    "from sklearn.model_selection import train_test_split\n",
    "from sklearn.feature_extraction.txt import CountVctorizer\n",
    "from sklearn.preprocessing import OneHotEncoder,LabelEncoder\n",
    "from scipy import sparse\n",
    "import os\n",
    "\n",
    "ad_feature = pd.read_csv('../preliminary_contest_data/userFeature0.csv')\n",
    "user_feature = pd.read_csv('')"
   ]
  }
 ],
 "metadata": {
  "kernelspec": {
   "display_name": "Python 3",
   "language": "python",
   "name": "python3"
  },
  "language_info": {
   "codemirror_mode": {
    "name": "ipython",
    "version": 3
   },
   "file_extension": ".py",
   "mimetype": "text/x-python",
   "name": "python",
   "nbconvert_exporter": "python",
   "pygments_lexer": "ipython3",
   "version": "3.6.3"
  }
 },
 "nbformat": 4,
 "nbformat_minor": 2
}
